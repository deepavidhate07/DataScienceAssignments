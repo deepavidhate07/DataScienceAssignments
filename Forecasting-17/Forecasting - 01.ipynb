{
 "cells": [
  {
   "cell_type": "code",
   "execution_count": 1,
   "metadata": {},
   "outputs": [],
   "source": [
    "import pandas as pd\n",
    "import numpy as np\n",
    "import matplotlib.pyplot as plt\n",
    "import statsmodels.formula.api as snf"
   ]
  },
  {
   "cell_type": "code",
   "execution_count": 2,
   "metadata": {},
   "outputs": [],
   "source": [
    "Cocacola=pd.read_excel(\"CocaCola_Sales_Rawdata.xlsx\")"
   ]
  },
  {
   "cell_type": "code",
   "execution_count": 3,
   "metadata": {},
   "outputs": [
    {
     "data": {
      "text/html": [
       "<div>\n",
       "<style scoped>\n",
       "    .dataframe tbody tr th:only-of-type {\n",
       "        vertical-align: middle;\n",
       "    }\n",
       "\n",
       "    .dataframe tbody tr th {\n",
       "        vertical-align: top;\n",
       "    }\n",
       "\n",
       "    .dataframe thead th {\n",
       "        text-align: right;\n",
       "    }\n",
       "</style>\n",
       "<table border=\"1\" class=\"dataframe\">\n",
       "  <thead>\n",
       "    <tr style=\"text-align: right;\">\n",
       "      <th></th>\n",
       "      <th>Quarter</th>\n",
       "      <th>Sales</th>\n",
       "    </tr>\n",
       "  </thead>\n",
       "  <tbody>\n",
       "    <tr>\n",
       "      <th>0</th>\n",
       "      <td>Q1_86</td>\n",
       "      <td>1734.827000</td>\n",
       "    </tr>\n",
       "    <tr>\n",
       "      <th>1</th>\n",
       "      <td>Q2_86</td>\n",
       "      <td>2244.960999</td>\n",
       "    </tr>\n",
       "    <tr>\n",
       "      <th>2</th>\n",
       "      <td>Q3_86</td>\n",
       "      <td>2533.804993</td>\n",
       "    </tr>\n",
       "    <tr>\n",
       "      <th>3</th>\n",
       "      <td>Q4_86</td>\n",
       "      <td>2154.962997</td>\n",
       "    </tr>\n",
       "    <tr>\n",
       "      <th>4</th>\n",
       "      <td>Q1_87</td>\n",
       "      <td>1547.818996</td>\n",
       "    </tr>\n",
       "  </tbody>\n",
       "</table>\n",
       "</div>"
      ],
      "text/plain": [
       "  Quarter        Sales\n",
       "0   Q1_86  1734.827000\n",
       "1   Q2_86  2244.960999\n",
       "2   Q3_86  2533.804993\n",
       "3   Q4_86  2154.962997\n",
       "4   Q1_87  1547.818996"
      ]
     },
     "execution_count": 3,
     "metadata": {},
     "output_type": "execute_result"
    }
   ],
   "source": [
    "Cocacola.head()"
   ]
  },
  {
   "cell_type": "code",
   "execution_count": 4,
   "metadata": {},
   "outputs": [],
   "source": [
    "Cocacola.isnull().sum()\n",
    "quarter=[\"Q1,Q2,Q3,Q4\"]\n",
    "p=Cocacola[\"Quarter\"][0]\n",
    "p[0:2]\n",
    "Cocacola[\"sales\"]=0"
   ]
  },
  {
   "cell_type": "code",
   "execution_count": 5,
   "metadata": {},
   "outputs": [
    {
     "name": "stderr",
     "output_type": "stream",
     "text": [
      "<ipython-input-5-1f5c3abffcc6>:3: SettingWithCopyWarning: \n",
      "A value is trying to be set on a copy of a slice from a DataFrame\n",
      "\n",
      "See the caveats in the documentation: https://pandas.pydata.org/pandas-docs/stable/user_guide/indexing.html#returning-a-view-versus-a-copy\n",
      "  Cocacola[\"sales\"][i]=p[0:2]\n",
      "C:\\Users\\SHRIKRUSHNA\\anaconda3\\lib\\site-packages\\pandas\\core\\indexing.py:670: SettingWithCopyWarning: \n",
      "A value is trying to be set on a copy of a slice from a DataFrame\n",
      "\n",
      "See the caveats in the documentation: https://pandas.pydata.org/pandas-docs/stable/user_guide/indexing.html#returning-a-view-versus-a-copy\n",
      "  iloc._setitem_with_indexer(indexer, value)\n"
     ]
    }
   ],
   "source": [
    "for i in range(42):\n",
    "    p=Cocacola[\"Quarter\"][i]\n",
    "    Cocacola[\"sales\"][i]=p[0:2]"
   ]
  },
  {
   "cell_type": "code",
   "execution_count": 6,
   "metadata": {},
   "outputs": [],
   "source": [
    "quarter_dummies=pd.DataFrame(pd.get_dummies(Cocacola[\"sales\"]))\n",
    "Coca=pd.concat([Cocacola,quarter_dummies],axis=1)"
   ]
  },
  {
   "cell_type": "code",
   "execution_count": 7,
   "metadata": {},
   "outputs": [],
   "source": [
    "Coca[\"t\"]=np.arange(1,43)\n",
    "Coca[\"t_square\"]=Coca[\"t\"]*Coca[\"t\"]\n",
    "Coca[\"log_sales\"]=np.log(Coca[\"Sales\"])\n"
   ]
  },
  {
   "cell_type": "code",
   "execution_count": 8,
   "metadata": {},
   "outputs": [],
   "source": [
    "Train=Coca.head(38)\n",
    "Test=Coca.tail(4)\n",
    "Test=Test.set_index(np.arange(1,5))"
   ]
  },
  {
   "cell_type": "code",
   "execution_count": 9,
   "metadata": {},
   "outputs": [],
   "source": [
    "#Linear model\n",
    "Lin_model=snf.ols(\"Sales~t\",data=Train).fit()\n",
    "Lin_pred=pd.Series(Lin_model.predict(pd.DataFrame(Test[\"t\"])))\n",
    "Lin_rmse=np.sqrt(np.mean((np.array(Test[\"Sales\"])-np.array(Lin_pred))**2))"
   ]
  },
  {
   "cell_type": "code",
   "execution_count": 11,
   "metadata": {},
   "outputs": [],
   "source": [
    "#Quadratic Model\n",
    "Quad_model=snf.ols(\"Sales~t+t_square\",data=Train).fit()\n",
    "Quad_pred=pd.Series(Quad_model.predict(pd.DataFrame(Test[[\"t\",\"t_square\"]])))\n",
    "Quad_rmse=np.sqrt(np.mean((np.array(Test[\"Sales\"])-np.array(Quad_pred))**2))"
   ]
  },
  {
   "cell_type": "code",
   "execution_count": 12,
   "metadata": {},
   "outputs": [],
   "source": [
    "#Exp Model\n",
    "Exp_model=snf.ols(\"log_sales~t\",data=Train).fit()\n",
    "Exp_pred=pd.Series(Exp_model.predict(pd.DataFrame(Test[\"t\"])))\n",
    "Exp_rmse=np.sqrt(np.mean((np.array(Test[\"Sales\"])-np.array(np.exp(Exp_pred)))**2))"
   ]
  },
  {
   "cell_type": "code",
   "execution_count": 13,
   "metadata": {},
   "outputs": [],
   "source": [
    "#Building the Additive seasonality\n",
    "Add_sea=snf.ols(\"Sales~Q1+Q2+Q3+Q4\",data=Train).fit()\n",
    "Add_pred=pd.Series(Add_sea.predict(pd.DataFrame(Test[[\"Q1\",\"Q2\",\"Q3\",\"Q4\"]])))\n",
    "Add_rmse=np.sqrt(np.mean((np.array(Test[\"Sales\"])-np.array(Add_pred))**2))"
   ]
  },
  {
   "cell_type": "code",
   "execution_count": 14,
   "metadata": {},
   "outputs": [],
   "source": [
    "#Building the Additive seasonality with linear trend\n",
    "Add_lin_sea=snf.ols(\"Sales~Q1+Q2+Q3+Q4+t\",data=Train).fit()\n",
    "Add_lin_pred=pd.Series(Add_lin_sea.predict(pd.DataFrame(Test[[\"Q1\",\"Q2\",\"Q3\",\"Q4\",\"t\"]])))\n",
    "Add_lin_rmse=np.sqrt(np.mean((np.array(Test[\"Sales\"])-np.array(Add_lin_pred))**2))"
   ]
  },
  {
   "cell_type": "code",
   "execution_count": 15,
   "metadata": {},
   "outputs": [],
   "source": [
    "#Building the Additive with Quadratic trend\n",
    "Add_Quad_sea=snf.ols(\"Sales~Q1+Q2+Q3+Q4+t+t_square\",data=Train).fit()\n",
    "Add_Quad_pred=pd.Series(Add_Quad_sea.predict(pd.DataFrame(Test[[\"Q1\",\"Q2\",\"Q3\",\"Q4\",\"t\",\"t_square\"]])))\n",
    "Add_Quad_rmse=np.sqrt(np.mean((np.array(Test[\"Sales\"])-np.array(Add_Quad_pred))**2))"
   ]
  },
  {
   "cell_type": "code",
   "execution_count": 16,
   "metadata": {},
   "outputs": [],
   "source": [
    "#Building the Multiplicative model\n",
    "Mul_model=snf.ols(\"log_sales~Q1+Q2+Q3+Q4\",data=Train).fit()\n",
    "Mul_pred=pd.Series(Mul_model.predict(pd.DataFrame(Test[[\"Q1\",\"Q2\",\"Q3\",\"Q4\"]])))\n",
    "Mul_rmse=np.sqrt(np.mean((np.array(Test[\"Sales\"])-np.array(np.exp(Mul_pred)))**2))"
   ]
  },
  {
   "cell_type": "code",
   "execution_count": 17,
   "metadata": {},
   "outputs": [],
   "source": [
    "#Building Multiplicative with linear trend\n",
    "Mul_lin_model=snf.ols(\"log_sales~Q1+Q2+Q3+Q4+t\",data=Train).fit()\n",
    "Mul_lin_pred=pd.Series(Mul_lin_model.predict(pd.DataFrame(Test[[\"Q1\",\"Q2\",\"Q3\",\"Q4\",\"t\"]])))\n",
    "Mul_lin_rmse=np.sqrt(np.mean((np.array(Test[\"Sales\"])-np.array(np.exp(Mul_lin_pred)))**2))"
   ]
  },
  {
   "cell_type": "code",
   "execution_count": 18,
   "metadata": {},
   "outputs": [],
   "source": [
    "#Building Multiplicative with linear Quadratic trend\n",
    "Mul_lin_quad_model=snf.ols(\"log_sales~Q1+Q2+Q3+Q4+t+t_square\",data=Train).fit()\n",
    "Mul_lin_quad_pred=pd.Series(Mul_lin_quad_model.predict(pd.DataFrame(Test[[\"Q1\",\"Q2\",\"Q3\",\"Q4\",\"t\",\"t_square\"]])))\n",
    "Mul_lin_quad_rmse=np.sqrt(np.mean((np.array(Test[\"Sales\"])-np.array(np.exp(Mul_lin_quad_pred)))**2))"
   ]
  },
  {
   "cell_type": "code",
   "execution_count": 19,
   "metadata": {},
   "outputs": [],
   "source": [
    "#Table for rmse values\n",
    "Rmse_Table={\"Model\":pd.Series([\"Lin_rmse\",\"Quad_rmse\",\"Exp_rmse\",\"Add_rmse\",\"Add_lin_rmse\",\"Add_Quad_rmse\",\"Mul_rmse\",\"Mul_lin_rmse\",\"Mul_lin_quad_rmse\"]),\"RMSE_Values\":pd.Series([Lin_rmse,Quad_rmse,Exp_rmse,Add_rmse,Add_lin_rmse,Add_Quad_rmse,Mul_rmse,Mul_lin_rmse,Mul_lin_quad_rmse])}\n",
    "Rmse_Table=pd.DataFrame(Rmse_Table)"
   ]
  },
  {
   "cell_type": "code",
   "execution_count": 21,
   "metadata": {},
   "outputs": [],
   "source": [
    "#From above RMSE values Multiplicative with linear trend is having less\n",
    "Final=Mul_lin_model=snf.ols(\"log_sales~Q1+Q2+Q3+Q4+t\",data=Coca).fit()"
   ]
  },
  {
   "cell_type": "code",
   "execution_count": null,
   "metadata": {},
   "outputs": [],
   "source": []
  }
 ],
 "metadata": {
  "kernelspec": {
   "display_name": "Python 3",
   "language": "python",
   "name": "python3"
  },
  "language_info": {
   "codemirror_mode": {
    "name": "ipython",
    "version": 3
   },
   "file_extension": ".py",
   "mimetype": "text/x-python",
   "name": "python",
   "nbconvert_exporter": "python",
   "pygments_lexer": "ipython3",
   "version": "3.8.5"
  }
 },
 "nbformat": 4,
 "nbformat_minor": 4
}
